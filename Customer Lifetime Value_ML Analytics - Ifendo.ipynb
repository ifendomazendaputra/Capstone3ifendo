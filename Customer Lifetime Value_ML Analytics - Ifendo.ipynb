{
 "cells": [
  {
   "cell_type": "markdown",
   "metadata": {},
   "source": [
    "## Libraries"
   ]
  },
  {
   "cell_type": "markdown",
   "metadata": {},
   "source": [
    "##### Import Common Library for Analytics"
   ]
  },
  {
   "cell_type": "code",
   "execution_count": 1,
   "metadata": {},
   "outputs": [],
   "source": [
    "import pandas as pd\n",
    "import numpy as np\n",
    "import matplotlib.pyplot as plt\n",
    "import seaborn as sns\n",
    "\n",
    "import warnings\n",
    "warnings.filterwarnings('ignore')"
   ]
  },
  {
   "cell_type": "markdown",
   "metadata": {},
   "source": [
    "##### Import Machine Learning Library"
   ]
  },
  {
   "cell_type": "code",
   "execution_count": 2,
   "metadata": {},
   "outputs": [],
   "source": [
    "from sklearn.model_selection import train_test_split, cross_val_score, GridSearchCV, RandomizedSearchCV\n",
    "from sklearn.impute import SimpleImputer\n",
    "from sklearn.preprocessing import RobustScaler, OneHotEncoder, OrdinalEncoder, StandardScaler\n",
    "from category_encoders import BinaryEncoder\n",
    "from sklearn.compose import ColumnTransformer\n",
    "from sklearn.pipeline import Pipeline\n",
    "from sklearn.metrics import mean_squared_error ,root_mean_squared_error, mean_absolute_error, mean_absolute_percentage_error, r2_score\n",
    "\n",
    "from sklearn.svm import SVR\n",
    "from sklearn.tree import DecisionTreeRegressor\n",
    "from sklearn.neighbors import KNeighborsRegressor\n",
    "from sklearn.linear_model import LinearRegression\n",
    "from sklearn.ensemble import RandomForestRegressor\n",
    "from sklearn.ensemble import GradientBoostingRegressor, AdaBoostRegressor\n",
    "from sklearn.linear_model import Lasso, Ridge, ElasticNet"
   ]
  },
  {
   "cell_type": "markdown",
   "metadata": {},
   "source": [
    "## Dataset"
   ]
  },
  {
   "cell_type": "markdown",
   "metadata": {},
   "source": [
    "##### Load Dataset"
   ]
  },
  {
   "cell_type": "markdown",
   "metadata": {},
   "source": [
    "Source: `Customer lifetime value`"
   ]
  },
  {
   "cell_type": "markdown",
   "metadata": {},
   "source": [
    "- Define 2 variables filled by Original dataset for `Basic Comparison Purpose`\n",
    "- Show the dataset's shape"
   ]
  },
  {
   "cell_type": "code",
   "execution_count": 3,
   "metadata": {},
   "outputs": [
    {
     "data": {
      "text/plain": [
       "(5669, 11)"
      ]
     },
     "execution_count": 3,
     "metadata": {},
     "output_type": "execute_result"
    }
   ],
   "source": [
    "raw = pd.read_csv('data_customer_lifetime_value.csv')\n",
    "data = raw\n",
    "data.shape"
   ]
  },
  {
   "cell_type": "markdown",
   "metadata": {},
   "source": [
    "##### Show Dataset - First 5 Rows"
   ]
  },
  {
   "cell_type": "markdown",
   "metadata": {},
   "source": [
    "- First look of dataset"
   ]
  },
  {
   "cell_type": "code",
   "execution_count": 4,
   "metadata": {},
   "outputs": [
    {
     "data": {
      "text/html": [
       "<div>\n",
       "<style scoped>\n",
       "    .dataframe tbody tr th:only-of-type {\n",
       "        vertical-align: middle;\n",
       "    }\n",
       "\n",
       "    .dataframe tbody tr th {\n",
       "        vertical-align: top;\n",
       "    }\n",
       "\n",
       "    .dataframe thead th {\n",
       "        text-align: right;\n",
       "    }\n",
       "</style>\n",
       "<table border=\"1\" class=\"dataframe\">\n",
       "  <thead>\n",
       "    <tr style=\"text-align: right;\">\n",
       "      <th></th>\n",
       "      <th>Vehicle Class</th>\n",
       "      <th>Coverage</th>\n",
       "      <th>Renew Offer Type</th>\n",
       "      <th>EmploymentStatus</th>\n",
       "      <th>Marital Status</th>\n",
       "      <th>Education</th>\n",
       "      <th>Number of Policies</th>\n",
       "      <th>Monthly Premium Auto</th>\n",
       "      <th>Total Claim Amount</th>\n",
       "      <th>Income</th>\n",
       "      <th>Customer Lifetime Value</th>\n",
       "    </tr>\n",
       "  </thead>\n",
       "  <tbody>\n",
       "    <tr>\n",
       "      <th>0</th>\n",
       "      <td>Four-Door Car</td>\n",
       "      <td>Extended</td>\n",
       "      <td>Offer1</td>\n",
       "      <td>Retired</td>\n",
       "      <td>Divorced</td>\n",
       "      <td>High School or Below</td>\n",
       "      <td>2.0</td>\n",
       "      <td>90.0</td>\n",
       "      <td>571.479602</td>\n",
       "      <td>11828.0</td>\n",
       "      <td>10083.486880</td>\n",
       "    </tr>\n",
       "    <tr>\n",
       "      <th>1</th>\n",
       "      <td>Four-Door Car</td>\n",
       "      <td>Basic</td>\n",
       "      <td>Offer1</td>\n",
       "      <td>Employed</td>\n",
       "      <td>Married</td>\n",
       "      <td>College</td>\n",
       "      <td>6.0</td>\n",
       "      <td>62.0</td>\n",
       "      <td>114.514440</td>\n",
       "      <td>44762.0</td>\n",
       "      <td>4943.386117</td>\n",
       "    </tr>\n",
       "    <tr>\n",
       "      <th>2</th>\n",
       "      <td>Two-Door Car</td>\n",
       "      <td>Basic</td>\n",
       "      <td>Offer1</td>\n",
       "      <td>Retired</td>\n",
       "      <td>Married</td>\n",
       "      <td>Master</td>\n",
       "      <td>2.0</td>\n",
       "      <td>62.0</td>\n",
       "      <td>257.248789</td>\n",
       "      <td>21514.0</td>\n",
       "      <td>11981.984810</td>\n",
       "    </tr>\n",
       "    <tr>\n",
       "      <th>3</th>\n",
       "      <td>Four-Door Car</td>\n",
       "      <td>Premium</td>\n",
       "      <td>Offer3</td>\n",
       "      <td>Disabled</td>\n",
       "      <td>Married</td>\n",
       "      <td>High School or Below</td>\n",
       "      <td>1.0</td>\n",
       "      <td>116.0</td>\n",
       "      <td>556.800000</td>\n",
       "      <td>17913.0</td>\n",
       "      <td>4550.856045</td>\n",
       "    </tr>\n",
       "    <tr>\n",
       "      <th>4</th>\n",
       "      <td>Two-Door Car</td>\n",
       "      <td>Basic</td>\n",
       "      <td>Offer3</td>\n",
       "      <td>Medical Leave</td>\n",
       "      <td>Married</td>\n",
       "      <td>High School or Below</td>\n",
       "      <td>1.0</td>\n",
       "      <td>62.0</td>\n",
       "      <td>355.820799</td>\n",
       "      <td>19030.0</td>\n",
       "      <td>2372.155492</td>\n",
       "    </tr>\n",
       "  </tbody>\n",
       "</table>\n",
       "</div>"
      ],
      "text/plain": [
       "   Vehicle Class  Coverage Renew Offer Type EmploymentStatus Marital Status  \\\n",
       "0  Four-Door Car  Extended           Offer1          Retired       Divorced   \n",
       "1  Four-Door Car     Basic           Offer1         Employed        Married   \n",
       "2   Two-Door Car     Basic           Offer1          Retired        Married   \n",
       "3  Four-Door Car   Premium           Offer3         Disabled        Married   \n",
       "4   Two-Door Car     Basic           Offer3    Medical Leave        Married   \n",
       "\n",
       "              Education  Number of Policies  Monthly Premium Auto  \\\n",
       "0  High School or Below                 2.0                  90.0   \n",
       "1               College                 6.0                  62.0   \n",
       "2                Master                 2.0                  62.0   \n",
       "3  High School or Below                 1.0                 116.0   \n",
       "4  High School or Below                 1.0                  62.0   \n",
       "\n",
       "   Total Claim Amount   Income  Customer Lifetime Value  \n",
       "0          571.479602  11828.0             10083.486880  \n",
       "1          114.514440  44762.0              4943.386117  \n",
       "2          257.248789  21514.0             11981.984810  \n",
       "3          556.800000  17913.0              4550.856045  \n",
       "4          355.820799  19030.0              2372.155492  "
      ]
     },
     "execution_count": 4,
     "metadata": {},
     "output_type": "execute_result"
    }
   ],
   "source": [
    "data.head()"
   ]
  },
  {
   "cell_type": "markdown",
   "metadata": {},
   "source": [
    "## Disclaimer"
   ]
  },
  {
   "cell_type": "markdown",
   "metadata": {},
   "source": [
    "As this state: \n",
    "- We will refer dataset's name `Customer lifetime value` as `CLV data` for Context Analytics\n",
    "- We will refer this `dataset` as `data` for both Marking down & Pandas DataFrame"
   ]
  },
  {
   "cell_type": "markdown",
   "metadata": {},
   "source": [
    "## Background"
   ]
  },
  {
   "cell_type": "markdown",
   "metadata": {},
   "source": [
    "### Context"
   ]
  },
  {
   "cell_type": "markdown",
   "metadata": {},
   "source": [
    "Customer Lifetime Value (CLV) is a critical metric for businesses, which representing the customers’s value over the company. Machine learning analytics offers powerful tools to predict CLV accurately."
   ]
  },
  {
   "cell_type": "markdown",
   "metadata": {},
   "source": [
    "### Bussiness Problem"
   ]
  },
  {
   "cell_type": "markdown",
   "metadata": {},
   "source": [
    "Develop a machine learning model to predict Customer Lifetime Value (CLV) based on customer data. Identify key factors influencing CLV to build a predictive model for future CLV estimation."
   ]
  },
  {
   "cell_type": "markdown",
   "metadata": {},
   "source": [
    "### Goal"
   ]
  },
  {
   "cell_type": "markdown",
   "metadata": {},
   "source": [
    "1. `Build` machine learning model for CLV prediction.\n",
    "2. Identify influential `features`.\n",
    "3. `Optimize model` performance through Cross Validation and hyperparameter tuning.\n",
    "4. `Evaluate` model accuracy using metrics MAPE (Mean Absolute Percentage Error)\n",
    "5. `Deploy` the model for CLV predictions and monitor performance.\n",
    "6. Provide actionable `insights` for marketing and customer management strategies."
   ]
  },
  {
   "cell_type": "markdown",
   "metadata": {},
   "source": [
    "## Data Understanding"
   ]
  },
  {
   "cell_type": "markdown",
   "metadata": {},
   "source": [
    "`Each Row` Represents `a customer's profile` about their interactions with Insurance Company\n",
    "\n",
    "-\tVehicle Class\n",
    "-\tCoverage\n",
    "-\tRenew Offer Type\n",
    "-\tEmployment Status\n",
    "-\tMarital Status\n",
    "-\tEducation\n",
    "-\tNumber of Policies\n",
    "-\tMonthly Premium Auto\n",
    "-\tTotal Claim Amount\n",
    "-\tIncome\n",
    "-\tCustomer Lifetime Value"
   ]
  },
  {
   "cell_type": "markdown",
   "metadata": {},
   "source": [
    "## Cleansing"
   ]
  },
  {
   "cell_type": "markdown",
   "metadata": {},
   "source": [
    "##### Data Info Check"
   ]
  },
  {
   "cell_type": "code",
   "execution_count": 5,
   "metadata": {},
   "outputs": [
    {
     "name": "stdout",
     "output_type": "stream",
     "text": [
      "<class 'pandas.core.frame.DataFrame'>\n",
      "RangeIndex: 5669 entries, 0 to 5668\n",
      "Data columns (total 11 columns):\n",
      " #   Column                   Non-Null Count  Dtype  \n",
      "---  ------                   --------------  -----  \n",
      " 0   Vehicle Class            5669 non-null   object \n",
      " 1   Coverage                 5669 non-null   object \n",
      " 2   Renew Offer Type         5669 non-null   object \n",
      " 3   EmploymentStatus         5669 non-null   object \n",
      " 4   Marital Status           5669 non-null   object \n",
      " 5   Education                5669 non-null   object \n",
      " 6   Number of Policies       5669 non-null   float64\n",
      " 7   Monthly Premium Auto     5669 non-null   float64\n",
      " 8   Total Claim Amount       5669 non-null   float64\n",
      " 9   Income                   5669 non-null   float64\n",
      " 10  Customer Lifetime Value  5669 non-null   float64\n",
      "dtypes: float64(5), object(6)\n",
      "memory usage: 487.3+ KB\n"
     ]
    }
   ],
   "source": [
    "data.info()"
   ]
  },
  {
   "cell_type": "markdown",
   "metadata": {},
   "source": [
    "Insights:\n",
    "\n",
    "- There's `11 columns` in this data.\n",
    "- There's only 2 data types. `Object and Float`\n",
    "- Object data type used by 6 columns\n",
    "- Float data type used by 5 columns\n",
    "- There's `no null value`"
   ]
  },
  {
   "cell_type": "markdown",
   "metadata": {},
   "source": [
    "##### Drop Duplicated data"
   ]
  },
  {
   "cell_type": "code",
   "execution_count": 6,
   "metadata": {},
   "outputs": [
    {
     "data": {
      "text/plain": [
       "618"
      ]
     },
     "execution_count": 6,
     "metadata": {},
     "output_type": "execute_result"
    }
   ],
   "source": [
    "data.duplicated().sum()"
   ]
  },
  {
   "cell_type": "code",
   "execution_count": 7,
   "metadata": {},
   "outputs": [
    {
     "name": "stdout",
     "output_type": "stream",
     "text": [
      "Before (5669, 11)\n",
      "After (5051, 11)\n"
     ]
    }
   ],
   "source": [
    "data = data.drop_duplicates()\n",
    "print(f'Before {raw.shape}\\nAfter {data.shape}')"
   ]
  },
  {
   "cell_type": "markdown",
   "metadata": {},
   "source": [
    "##### View Column's Info"
   ]
  },
  {
   "cell_type": "code",
   "execution_count": 8,
   "metadata": {},
   "outputs": [
    {
     "data": {
      "text/html": [
       "<div>\n",
       "<style scoped>\n",
       "    .dataframe tbody tr th:only-of-type {\n",
       "        vertical-align: middle;\n",
       "    }\n",
       "\n",
       "    .dataframe tbody tr th {\n",
       "        vertical-align: top;\n",
       "    }\n",
       "\n",
       "    .dataframe thead th {\n",
       "        text-align: right;\n",
       "    }\n",
       "</style>\n",
       "<table border=\"1\" class=\"dataframe\">\n",
       "  <thead>\n",
       "    <tr style=\"text-align: right;\">\n",
       "      <th></th>\n",
       "      <th>Number of Policies</th>\n",
       "      <th>Monthly Premium Auto</th>\n",
       "      <th>Total Claim Amount</th>\n",
       "      <th>Income</th>\n",
       "      <th>Customer Lifetime Value</th>\n",
       "    </tr>\n",
       "  </thead>\n",
       "  <tbody>\n",
       "    <tr>\n",
       "      <th>count</th>\n",
       "      <td>5051.000000</td>\n",
       "      <td>5051.000000</td>\n",
       "      <td>5051.000000</td>\n",
       "      <td>5051.000000</td>\n",
       "      <td>5051.000000</td>\n",
       "    </tr>\n",
       "    <tr>\n",
       "      <th>mean</th>\n",
       "      <td>2.992081</td>\n",
       "      <td>92.911107</td>\n",
       "      <td>429.798954</td>\n",
       "      <td>37739.838448</td>\n",
       "      <td>8059.483178</td>\n",
       "    </tr>\n",
       "    <tr>\n",
       "      <th>std</th>\n",
       "      <td>2.386500</td>\n",
       "      <td>34.335010</td>\n",
       "      <td>293.129102</td>\n",
       "      <td>30691.452111</td>\n",
       "      <td>6989.189674</td>\n",
       "    </tr>\n",
       "    <tr>\n",
       "      <th>min</th>\n",
       "      <td>1.000000</td>\n",
       "      <td>61.000000</td>\n",
       "      <td>0.423310</td>\n",
       "      <td>0.000000</td>\n",
       "      <td>1898.007675</td>\n",
       "    </tr>\n",
       "    <tr>\n",
       "      <th>25%</th>\n",
       "      <td>1.000000</td>\n",
       "      <td>68.000000</td>\n",
       "      <td>251.776304</td>\n",
       "      <td>0.000000</td>\n",
       "      <td>3964.441004</td>\n",
       "    </tr>\n",
       "    <tr>\n",
       "      <th>50%</th>\n",
       "      <td>2.000000</td>\n",
       "      <td>82.000000</td>\n",
       "      <td>374.400000</td>\n",
       "      <td>34322.000000</td>\n",
       "      <td>5837.528088</td>\n",
       "    </tr>\n",
       "    <tr>\n",
       "      <th>75%</th>\n",
       "      <td>4.000000</td>\n",
       "      <td>109.000000</td>\n",
       "      <td>548.123122</td>\n",
       "      <td>62471.500000</td>\n",
       "      <td>9028.564632</td>\n",
       "    </tr>\n",
       "    <tr>\n",
       "      <th>max</th>\n",
       "      <td>9.000000</td>\n",
       "      <td>297.000000</td>\n",
       "      <td>2759.794354</td>\n",
       "      <td>99934.000000</td>\n",
       "      <td>83325.381190</td>\n",
       "    </tr>\n",
       "  </tbody>\n",
       "</table>\n",
       "</div>"
      ],
      "text/plain": [
       "       Number of Policies  Monthly Premium Auto  Total Claim Amount  \\\n",
       "count         5051.000000           5051.000000         5051.000000   \n",
       "mean             2.992081             92.911107          429.798954   \n",
       "std              2.386500             34.335010          293.129102   \n",
       "min              1.000000             61.000000            0.423310   \n",
       "25%              1.000000             68.000000          251.776304   \n",
       "50%              2.000000             82.000000          374.400000   \n",
       "75%              4.000000            109.000000          548.123122   \n",
       "max              9.000000            297.000000         2759.794354   \n",
       "\n",
       "             Income  Customer Lifetime Value  \n",
       "count   5051.000000              5051.000000  \n",
       "mean   37739.838448              8059.483178  \n",
       "std    30691.452111              6989.189674  \n",
       "min        0.000000              1898.007675  \n",
       "25%        0.000000              3964.441004  \n",
       "50%    34322.000000              5837.528088  \n",
       "75%    62471.500000              9028.564632  \n",
       "max    99934.000000             83325.381190  "
      ]
     },
     "execution_count": 8,
     "metadata": {},
     "output_type": "execute_result"
    }
   ],
   "source": [
    "data.describe()"
   ]
  },
  {
   "cell_type": "code",
   "execution_count": 378,
   "metadata": {},
   "outputs": [
    {
     "data": {
      "text/plain": [
       "(5051, 11)"
      ]
     },
     "metadata": {},
     "output_type": "display_data"
    },
    {
     "data": {
      "text/html": [
       "<div>\n",
       "<style scoped>\n",
       "    .dataframe tbody tr th:only-of-type {\n",
       "        vertical-align: middle;\n",
       "    }\n",
       "\n",
       "    .dataframe tbody tr th {\n",
       "        vertical-align: top;\n",
       "    }\n",
       "\n",
       "    .dataframe thead th {\n",
       "        text-align: right;\n",
       "    }\n",
       "</style>\n",
       "<table border=\"1\" class=\"dataframe\">\n",
       "  <thead>\n",
       "    <tr style=\"text-align: right;\">\n",
       "      <th></th>\n",
       "      <th>Features</th>\n",
       "      <th>Data Type</th>\n",
       "      <th>Null_value</th>\n",
       "      <th>Null Value (%)</th>\n",
       "      <th>Unique Value</th>\n",
       "      <th>Unique Sample</th>\n",
       "    </tr>\n",
       "  </thead>\n",
       "  <tbody>\n",
       "    <tr>\n",
       "      <th>0</th>\n",
       "      <td>Vehicle Class</td>\n",
       "      <td>object</td>\n",
       "      <td>0</td>\n",
       "      <td>0.0 %</td>\n",
       "      <td>6</td>\n",
       "      <td>[Four-Door Car, Two-Door Car, SUV, Sports Car, Luxury SUV, Luxury Car]</td>\n",
       "    </tr>\n",
       "    <tr>\n",
       "      <th>1</th>\n",
       "      <td>Coverage</td>\n",
       "      <td>object</td>\n",
       "      <td>0</td>\n",
       "      <td>0.0 %</td>\n",
       "      <td>3</td>\n",
       "      <td>[Extended, Basic, Premium]</td>\n",
       "    </tr>\n",
       "    <tr>\n",
       "      <th>2</th>\n",
       "      <td>Renew Offer Type</td>\n",
       "      <td>object</td>\n",
       "      <td>0</td>\n",
       "      <td>0.0 %</td>\n",
       "      <td>4</td>\n",
       "      <td>[Offer1, Offer3, Offer2, Offer4]</td>\n",
       "    </tr>\n",
       "    <tr>\n",
       "      <th>3</th>\n",
       "      <td>EmploymentStatus</td>\n",
       "      <td>object</td>\n",
       "      <td>0</td>\n",
       "      <td>0.0 %</td>\n",
       "      <td>5</td>\n",
       "      <td>[Retired, Employed, Disabled, Medical Leave, Unemployed]</td>\n",
       "    </tr>\n",
       "    <tr>\n",
       "      <th>4</th>\n",
       "      <td>Marital Status</td>\n",
       "      <td>object</td>\n",
       "      <td>0</td>\n",
       "      <td>0.0 %</td>\n",
       "      <td>3</td>\n",
       "      <td>[Divorced, Married, Single]</td>\n",
       "    </tr>\n",
       "    <tr>\n",
       "      <th>5</th>\n",
       "      <td>Education</td>\n",
       "      <td>object</td>\n",
       "      <td>0</td>\n",
       "      <td>0.0 %</td>\n",
       "      <td>5</td>\n",
       "      <td>[High School or Below, College, Master, Bachelor, Doctor]</td>\n",
       "    </tr>\n",
       "    <tr>\n",
       "      <th>6</th>\n",
       "      <td>Number of Policies</td>\n",
       "      <td>float64</td>\n",
       "      <td>0</td>\n",
       "      <td>0.0 %</td>\n",
       "      <td>9</td>\n",
       "      <td>[2.0, 6.0, 1.0, 8.0, 5.0, 3.0, 7.0, 4.0, 9.0]</td>\n",
       "    </tr>\n",
       "    <tr>\n",
       "      <th>7</th>\n",
       "      <td>Monthly Premium Auto</td>\n",
       "      <td>float64</td>\n",
       "      <td>0</td>\n",
       "      <td>0.0 %</td>\n",
       "      <td>191</td>\n",
       "      <td>[90.0, 62.0, 116.0, 107.0, 101.0, 66.0, 65.0, 117.0, 78.0, 63.0, 70.0, 71.0, 61.0, 64.0, 129.0, 100.0, 68.0, 126.0, 95.0, 128.0, 84.0, 125.0, 98.0, 97.0, 121.0, 192.0, 69.0, 83.0, 72.0, 67.0, 103.0, 74.0, 89.0, 86.0, 110.0, 124.0, 73.0, 191.0, 122.0, 133.0, 165.0, 127.0, 144.0, 114.0, 194.0, 118.0, 111.0, 138.0, 119.0, 76.0, 80.0, 154.0, 189.0, 130.0, 109.0, 161.0, 88.0, 93.0, 113.0, 87.0, 136.0, 106.0, 99.0, 105.0, 82.0, 96.0, 159.0, 181.0, 146.0, 115.0, 187.0, 108.0, 209.0, 102.0, 104.0, 77.0, 79.0, 283.0, 150.0, 92.0, 91.0, 180.0, 131.0, 112.0, 184.0, 137.0, 185.0, 94.0, 198.0, 135.0, 140.0, 132.0, 139.0, 85.0, 123.0, 214.0, 201.0, 155.0, 193.0, 81.0, ...]</td>\n",
       "    </tr>\n",
       "    <tr>\n",
       "      <th>8</th>\n",
       "      <td>Total Claim Amount</td>\n",
       "      <td>float64</td>\n",
       "      <td>0</td>\n",
       "      <td>0.0 %</td>\n",
       "      <td>3274</td>\n",
       "      <td>[571.479602, 114.51444, 257.248789, 556.8, 355.820799, 85.063708, 584.567645, 144.987956, 264.563772, 582.781896, 39.781368, 227.44626, 347.857619, 239.328571, 340.8, 439.2, 307.2, 1178.950186, 480.0, 350.65008, 51.961915, 907.2, 423.787608, 234.683628, 456.0, 614.4, 475.2, 286.781601, 788.206874, 600.0, 265.877583, 513.6, 196.37368, 312.0, 335.840529, 580.8, 1921.248929, 331.2, 389.636991, 229.620398, 159.266473, 291.91645, 321.6, 685.227276, 355.2, 616.005527, 395.729716, 302.4, 287.5426, 528.0, 282.500791, 135.892444, 316.8, 525.6, 604.8, 981.010879, 650.52179, 668.29397, 349.954886, 345.6, 638.4, 1452.213743, 609.6, 93.128128, 297.6, 292.8, 268.471802, 624.023564, 245.447622, 476.903351, 624.711448, 820.431905, 547.2, 469.257835, 1067.291208, 416.2618, 566.4, 40.622304, 497.126827, 314.880326, 938.513425, 307.639408, 482.4, 29.984815, 290.70096, 30.874869, 199.79727, 384.0, 41.464402, 739.2, 571.2, 460.741097, 532.8, 206.810286, 199.851173, 799.2, 142.205246, 114.815893, 44.284642, 336.0, ...]</td>\n",
       "    </tr>\n",
       "    <tr>\n",
       "      <th>9</th>\n",
       "      <td>Income</td>\n",
       "      <td>float64</td>\n",
       "      <td>0</td>\n",
       "      <td>0.0 %</td>\n",
       "      <td>3625</td>\n",
       "      <td>[11828.0, 44762.0, 21514.0, 17913.0, 19030.0, 94389.0, 25419.0, 26477.0, 36615.0, 59624.0, 37813.0, 35624.0, 24910.0, 62739.0, 18608.0, 46210.0, 0.0, 15192.0, 50397.0, 82210.0, 22538.0, 31614.0, 78358.0, 36510.0, 51962.0, 45345.0, 62039.0, 66550.0, 71134.0, 26721.0, 66726.0, 40672.0, 44685.0, 78804.0, 23616.0, 38667.0, 59961.0, 57117.0, 25221.0, 33806.0, 46051.0, 42526.0, 43963.0, 52819.0, 50450.0, 51972.0, 72421.0, 38183.0, 20325.0, 51032.0, 20567.0, 23671.0, 45302.0, 21102.0, 53565.0, 59797.0, 47509.0, 22239.0, 14665.0, 64801.0, 44986.0, 43817.0, 36845.0, 49259.0, 26486.0, 56446.0, 67787.0, 89464.0, 22475.0, 31972.0, 58089.0, 41990.0, 84903.0, 67137.0, 21450.0, 99874.0, 26100.0, 31275.0, 71186.0, 91580.0, 69417.0, 88592.0, 26806.0, 23656.0, 94527.0, 44096.0, 66839.0, 18643.0, 58682.0, 87002.0, 47725.0, 22244.0, 26245.0, 61085.0, 62464.0, 48367.0, 59207.0, 75007.0, 72874.0, 72540.0, ...]</td>\n",
       "    </tr>\n",
       "    <tr>\n",
       "      <th>10</th>\n",
       "      <td>Customer Lifetime Value</td>\n",
       "      <td>float64</td>\n",
       "      <td>0</td>\n",
       "      <td>0.0 %</td>\n",
       "      <td>5049</td>\n",
       "      <td>[10083.48688, 4943.386117, 11981.98481, 4550.856045, 2372.155492, 8649.700578, 12052.98409, 2621.116054, 5243.828046, 9156.322563, 6259.510365, 19237.77089, 2248.449633, 5581.761298, 2538.62632, 2402.333284, 4774.751709, 4711.845199, 3832.118106, 2813.50617, 2687.314108, 4531.675269, 2554.033928, 5420.361822, 6846.150323, 10307.65258, 2239.647297, 6721.893743, 4804.35851, 14696.63549, 5396.311664, 25674.14895, 7708.883885, 6747.524275, 7661.388132, 9559.340024, 6745.248379, 24723.18311, 25763.41423, 6610.048274, 2787.423683, 2640.58732, 2656.99458, 3771.617797, 2502.209885, 3818.468252, 27789.69235, 2489.337928, 3417.204953, 8673.587, 4880.713626, 10640.93932, 7814.604545, 5510.558964, 13727.79972, 2592.437797, 15277.47796, 9031.214859, 3803.921781, 3339.853704, 2449.128459, 8060.161694, 16007.94954, 11714.78278, 5569.456156, 16350.13061, 15261.41386, 2588.080213, 2404.633766, 4558.428807, 7582.113842, 8041.20055, 12302.76244, 3370.074728, 2326.864833, 2903.024168, 44520.13577, 14754.35923, 9118.148093, 7751.927614, 15415.04407, 2513.117202, 5580.916514, 4686.469674, 2626.279436, 6961.945557, 4475.424592, 8176.576796, 10937.1785, 4807.846463, 2482.411991, 5205.748188, 5399.57618, 8870.673845, 2842.266905, 18321.41903, 7019.177186, 2926.5223, 5860.16743, 25253.10198, ...]</td>\n",
       "    </tr>\n",
       "  </tbody>\n",
       "</table>\n",
       "</div>"
      ],
      "text/plain": [
       "                   Features Data Type  Null_value Null Value (%)  \\\n",
       "0             Vehicle Class    object           0          0.0 %   \n",
       "1                  Coverage    object           0          0.0 %   \n",
       "2          Renew Offer Type    object           0          0.0 %   \n",
       "3          EmploymentStatus    object           0          0.0 %   \n",
       "4            Marital Status    object           0          0.0 %   \n",
       "5                 Education    object           0          0.0 %   \n",
       "6        Number of Policies   float64           0          0.0 %   \n",
       "7      Monthly Premium Auto   float64           0          0.0 %   \n",
       "8        Total Claim Amount   float64           0          0.0 %   \n",
       "9                    Income   float64           0          0.0 %   \n",
       "10  Customer Lifetime Value   float64           0          0.0 %   \n",
       "\n",
       "    Unique Value  \\\n",
       "0              6   \n",
       "1              3   \n",
       "2              4   \n",
       "3              5   \n",
       "4              3   \n",
       "5              5   \n",
       "6              9   \n",
       "7            191   \n",
       "8           3274   \n",
       "9           3625   \n",
       "10          5049   \n",
       "\n",
       "                                                                                                                                                                                                                                                                                                                                                                                                                                                                                                                                                                                                                                                                                                                                                                                                                                                                                                                                                                                                                                                                                                                                                                                                                                                                                                                                  Unique Sample  \n",
       "0                                                                                                                                                                                                                                                                                                                                                                                                                                                                                                                                                                                                                                                                                                                                                                                                                                                                                                                                                                                                                                                                                                                                                                                                                                                                        [Four-Door Car, Two-Door Car, SUV, Sports Car, Luxury SUV, Luxury Car]  \n",
       "1                                                                                                                                                                                                                                                                                                                                                                                                                                                                                                                                                                                                                                                                                                                                                                                                                                                                                                                                                                                                                                                                                                                                                                                                                                                                                                                    [Extended, Basic, Premium]  \n",
       "2                                                                                                                                                                                                                                                                                                                                                                                                                                                                                                                                                                                                                                                                                                                                                                                                                                                                                                                                                                                                                                                                                                                                                                                                                                                                                                              [Offer1, Offer3, Offer2, Offer4]  \n",
       "3                                                                                                                                                                                                                                                                                                                                                                                                                                                                                                                                                                                                                                                                                                                                                                                                                                                                                                                                                                                                                                                                                                                                                                                                                                                                                      [Retired, Employed, Disabled, Medical Leave, Unemployed]  \n",
       "4                                                                                                                                                                                                                                                                                                                                                                                                                                                                                                                                                                                                                                                                                                                                                                                                                                                                                                                                                                                                                                                                                                                                                                                                                                                                                                                   [Divorced, Married, Single]  \n",
       "5                                                                                                                                                                                                                                                                                                                                                                                                                                                                                                                                                                                                                                                                                                                                                                                                                                                                                                                                                                                                                                                                                                                                                                                                                                                                                     [High School or Below, College, Master, Bachelor, Doctor]  \n",
       "6                                                                                                                                                                                                                                                                                                                                                                                                                                                                                                                                                                                                                                                                                                                                                                                                                                                                                                                                                                                                                                                                                                                                                                                                                                                                                                 [2.0, 6.0, 1.0, 8.0, 5.0, 3.0, 7.0, 4.0, 9.0]  \n",
       "7                                                                                                                                                                                                                                                                                                                                                                                                                                                                                                                                                                                                                                                   [90.0, 62.0, 116.0, 107.0, 101.0, 66.0, 65.0, 117.0, 78.0, 63.0, 70.0, 71.0, 61.0, 64.0, 129.0, 100.0, 68.0, 126.0, 95.0, 128.0, 84.0, 125.0, 98.0, 97.0, 121.0, 192.0, 69.0, 83.0, 72.0, 67.0, 103.0, 74.0, 89.0, 86.0, 110.0, 124.0, 73.0, 191.0, 122.0, 133.0, 165.0, 127.0, 144.0, 114.0, 194.0, 118.0, 111.0, 138.0, 119.0, 76.0, 80.0, 154.0, 189.0, 130.0, 109.0, 161.0, 88.0, 93.0, 113.0, 87.0, 136.0, 106.0, 99.0, 105.0, 82.0, 96.0, 159.0, 181.0, 146.0, 115.0, 187.0, 108.0, 209.0, 102.0, 104.0, 77.0, 79.0, 283.0, 150.0, 92.0, 91.0, 180.0, 131.0, 112.0, 184.0, 137.0, 185.0, 94.0, 198.0, 135.0, 140.0, 132.0, 139.0, 85.0, 123.0, 214.0, 201.0, 155.0, 193.0, 81.0, ...]  \n",
       "8                                                                                                                                                                                                                                                                                          [571.479602, 114.51444, 257.248789, 556.8, 355.820799, 85.063708, 584.567645, 144.987956, 264.563772, 582.781896, 39.781368, 227.44626, 347.857619, 239.328571, 340.8, 439.2, 307.2, 1178.950186, 480.0, 350.65008, 51.961915, 907.2, 423.787608, 234.683628, 456.0, 614.4, 475.2, 286.781601, 788.206874, 600.0, 265.877583, 513.6, 196.37368, 312.0, 335.840529, 580.8, 1921.248929, 331.2, 389.636991, 229.620398, 159.266473, 291.91645, 321.6, 685.227276, 355.2, 616.005527, 395.729716, 302.4, 287.5426, 528.0, 282.500791, 135.892444, 316.8, 525.6, 604.8, 981.010879, 650.52179, 668.29397, 349.954886, 345.6, 638.4, 1452.213743, 609.6, 93.128128, 297.6, 292.8, 268.471802, 624.023564, 245.447622, 476.903351, 624.711448, 820.431905, 547.2, 469.257835, 1067.291208, 416.2618, 566.4, 40.622304, 497.126827, 314.880326, 938.513425, 307.639408, 482.4, 29.984815, 290.70096, 30.874869, 199.79727, 384.0, 41.464402, 739.2, 571.2, 460.741097, 532.8, 206.810286, 199.851173, 799.2, 142.205246, 114.815893, 44.284642, 336.0, ...]  \n",
       "9                                                                                                                                                                                                                                                                                                                                                                                                         [11828.0, 44762.0, 21514.0, 17913.0, 19030.0, 94389.0, 25419.0, 26477.0, 36615.0, 59624.0, 37813.0, 35624.0, 24910.0, 62739.0, 18608.0, 46210.0, 0.0, 15192.0, 50397.0, 82210.0, 22538.0, 31614.0, 78358.0, 36510.0, 51962.0, 45345.0, 62039.0, 66550.0, 71134.0, 26721.0, 66726.0, 40672.0, 44685.0, 78804.0, 23616.0, 38667.0, 59961.0, 57117.0, 25221.0, 33806.0, 46051.0, 42526.0, 43963.0, 52819.0, 50450.0, 51972.0, 72421.0, 38183.0, 20325.0, 51032.0, 20567.0, 23671.0, 45302.0, 21102.0, 53565.0, 59797.0, 47509.0, 22239.0, 14665.0, 64801.0, 44986.0, 43817.0, 36845.0, 49259.0, 26486.0, 56446.0, 67787.0, 89464.0, 22475.0, 31972.0, 58089.0, 41990.0, 84903.0, 67137.0, 21450.0, 99874.0, 26100.0, 31275.0, 71186.0, 91580.0, 69417.0, 88592.0, 26806.0, 23656.0, 94527.0, 44096.0, 66839.0, 18643.0, 58682.0, 87002.0, 47725.0, 22244.0, 26245.0, 61085.0, 62464.0, 48367.0, 59207.0, 75007.0, 72874.0, 72540.0, ...]  \n",
       "10  [10083.48688, 4943.386117, 11981.98481, 4550.856045, 2372.155492, 8649.700578, 12052.98409, 2621.116054, 5243.828046, 9156.322563, 6259.510365, 19237.77089, 2248.449633, 5581.761298, 2538.62632, 2402.333284, 4774.751709, 4711.845199, 3832.118106, 2813.50617, 2687.314108, 4531.675269, 2554.033928, 5420.361822, 6846.150323, 10307.65258, 2239.647297, 6721.893743, 4804.35851, 14696.63549, 5396.311664, 25674.14895, 7708.883885, 6747.524275, 7661.388132, 9559.340024, 6745.248379, 24723.18311, 25763.41423, 6610.048274, 2787.423683, 2640.58732, 2656.99458, 3771.617797, 2502.209885, 3818.468252, 27789.69235, 2489.337928, 3417.204953, 8673.587, 4880.713626, 10640.93932, 7814.604545, 5510.558964, 13727.79972, 2592.437797, 15277.47796, 9031.214859, 3803.921781, 3339.853704, 2449.128459, 8060.161694, 16007.94954, 11714.78278, 5569.456156, 16350.13061, 15261.41386, 2588.080213, 2404.633766, 4558.428807, 7582.113842, 8041.20055, 12302.76244, 3370.074728, 2326.864833, 2903.024168, 44520.13577, 14754.35923, 9118.148093, 7751.927614, 15415.04407, 2513.117202, 5580.916514, 4686.469674, 2626.279436, 6961.945557, 4475.424592, 8176.576796, 10937.1785, 4807.846463, 2482.411991, 5205.748188, 5399.57618, 8870.673845, 2842.266905, 18321.41903, 7019.177186, 2926.5223, 5860.16743, 25253.10198, ...]  "
      ]
     },
     "metadata": {},
     "output_type": "display_data"
    }
   ],
   "source": [
    "pd.set_option('display.max_colwidth', None)\n",
    "\n",
    "datainfo = pd.DataFrame({\n",
    "    'Features': data.columns.values,\n",
    "    'Data Type': data.dtypes.values,\n",
    "    'Null_value': [data[col].isna().sum() for col in data.columns],\n",
    "    'Null Value (%)': pd.Series(np.round(data.isna().mean().values * 100, 2)).apply(lambda x: str(x)+' %'),\n",
    "    'Unique Value': data.nunique().values,\n",
    "    'Unique Sample': [data[col].unique() for col in data.columns]\n",
    "}).round(3)\n",
    "\n",
    "display(data.shape,datainfo)"
   ]
  },
  {
   "cell_type": "markdown",
   "metadata": {},
   "source": [
    "#### Handling outliers"
   ]
  },
  {
   "cell_type": "code",
   "execution_count": 379,
   "metadata": {},
   "outputs": [],
   "source": [
    "def iqr_outliers_detector(df, col,  threshold = 1.5):\n",
    "    Q1 = df[col].quantile(0.25)\n",
    "    Q3 = df[col].quantile(0.75)\n",
    "    IQR = Q3 - Q1\n",
    "    lower_bound = Q1 - threshold * IQR\n",
    "    upper_bound = Q3 + threshold * IQR\n",
    "\n",
    "    outlier= df[(df[col] < lower_bound) | (df[col] > upper_bound)]\n",
    "    return outlier, lower_bound, upper_bound "
   ]
  },
  {
   "cell_type": "markdown",
   "metadata": {},
   "source": [
    "##### Handling Target Outlier : `Customer Lifetime Value`"
   ]
  },
  {
   "cell_type": "code",
   "execution_count": 380,
   "metadata": {},
   "outputs": [
    {
     "data": {
      "image/png": "[encoded data removed]",
      "text/plain": [
       "<Figure size 640x480 with 1 Axes>"
      ]
     },
     "metadata": {},
     "output_type": "display_data"
    }
   ],
   "source": [
    "col = 'Customer Lifetime Value'\n",
    "CLV_outlier, lowbound, upbound = iqr_outliers_detector(data, col)\n",
    "\n",
    "sns.boxplot(data[col])\n",
    "plt.yticks(range(-10000,90000, 5000))\n",
    "plt.axhline(y=lowbound, color='orange', linestyle = '--')\n",
    "plt.axhline(y=upbound, color='orange', linestyle = '--')\n",
    "plt.title(f'Outliers in {col}')\n",
    "plt.show()"
   ]
  },
  {
   "cell_type": "code",
   "execution_count": 381,
   "metadata": {},
   "outputs": [
    {
     "name": "stdout",
     "output_type": "stream",
     "text": [
      "Total Ouliers Found: 449\n",
      "With Lower -3631.744438749999 and Upper 16624.75007525\n",
      "Before (5051, 11)\n",
      "After (4602, 11)\n"
     ]
    }
   ],
   "source": [
    "print('Total Ouliers Found:',len(CLV_outlier))\n",
    "print(f'With Lower {lowbound} and Upper {upbound}')\n",
    "\n",
    "print(f'Before {data.shape}')\n",
    "data_f0 = data # keep data without dropping Target Outliers\n",
    "data_t0 = data.drop(CLV_outlier.index)\n",
    "print(f'After {data_t0.shape}')"
   ]
  },
  {
   "cell_type": "markdown",
   "metadata": {},
   "source": [
    "##### Handling Feature Outlier : `Monthly Premium Auto`"
   ]
  },
  {
   "cell_type": "code",
   "execution_count": 382,
   "metadata": {},
   "outputs": [
    {
     "data": {
      "image/png": "[encoded data removed]",
      "text/plain": [
       "<Figure size 640x480 with 1 Axes>"
      ]
     },
     "metadata": {},
     "output_type": "display_data"
    }
   ],
   "source": [
    "col = 'Monthly Premium Auto'\n",
    "MPA_outlier, lowbound, upbound = iqr_outliers_detector(data_t0, col)\n",
    "\n",
    "sns.boxplot(data[col])\n",
    "plt.yticks(range(0,301, 20))\n",
    "plt.axhline(y=lowbound, color='orange', linestyle = '--')\n",
    "plt.axhline(y=upbound, color='orange', linestyle = '--')\n",
    "plt.title(f'Outliers in {col}')\n",
    "plt.show()"
   ]
  },
  {
   "cell_type": "code",
   "execution_count": 383,
   "metadata": {},
   "outputs": [
    {
     "name": "stdout",
     "output_type": "stream",
     "text": [
      "Total Outliers Found: 175\n",
      "With Lower 9.5 and Upper 165.5\n",
      "Before (5051, 11)\n",
      "After (4427, 11)\n"
     ]
    }
   ],
   "source": [
    "print('Total Outliers Found:',len(MPA_outlier))\n",
    "print(f'With Lower {lowbound} and Upper {upbound}')\n",
    "\n",
    "print(f'Before {data_t0.shape}')\n",
    "data_f0 = data_f0.drop(MPA_outlier.index)\n",
    "data = data_t0.drop(MPA_outlier.index)\n",
    "print(f'After {data.shape}')"
   ]
  },
  {
   "cell_type": "markdown",
   "metadata": {},
   "source": [
    "##### Handling Feature Outlier : `Total Claim Amount`"
   ]
  },
  {
   "cell_type": "code",
   "execution_count": 384,
   "metadata": {},
   "outputs": [
    {
     "data": {
      "image/png": "[encoded data removed]",
      "text/plain": [
       "<Figure size 640x480 with 1 Axes>"
      ]
     },
     "metadata": {},
     "output_type": "display_data"
    }
   ],
   "source": [
    "col = 'Total Claim Amount'\n",
    "TCA_outlier, lowbound, upbound = iqr_outliers_detector(data_tf0, col)\n",
    "\n",
    "sns.boxplot(data[col])\n",
    "plt.yticks(range(-200, 1601, 100))\n",
    "plt.axhline(y=lowbound, color='orange', linestyle = '--')\n",
    "plt.axhline(y=upbound, color='orange', linestyle = '--')\n",
    "plt.title(f'Outliers in {col}')\n",
    "plt.show()"
   ]
  },
  {
   "cell_type": "code",
   "execution_count": 385,
   "metadata": {},
   "outputs": [
    {
     "name": "stdout",
     "output_type": "stream",
     "text": [
      "Total Outliers Found: 20\n",
      "With Lower -162.223334375 and Upper 915.254000625\n",
      "Before (4427, 11)\n",
      "After (4407, 11)\n"
     ]
    }
   ],
   "source": [
    "print('Total Outliers Found:',len(TCA_outlier))\n",
    "print(f'With Lower {lowbound} and Upper {upbound}')\n",
    "\n",
    "print(f'Before {data.shape}')\n",
    "data_f0 = data_f0.drop(TCA_outlier.index)\n",
    "data = data.drop(TCA_outlier.index)\n",
    "print(f'After {data.shape}')"
   ]
  },
  {
   "cell_type": "markdown",
   "metadata": {},
   "source": [
    "##### Handling Feature Outlier : `Income`"
   ]
  },
  {
   "cell_type": "code",
   "execution_count": 386,
   "metadata": {},
   "outputs": [
    {
     "data": {
      "image/png": "[encoded data removed]",
      "text/plain": [
       "<Figure size 640x480 with 1 Axes>"
      ]
     },
     "metadata": {},
     "output_type": "display_data"
    }
   ],
   "source": [
    "col = 'Income'\n",
    "Income_outlier, lowbound, upbound = iqr_outliers_detector(data, col)\n",
    "\n",
    "sns.boxplot(data[col])\n",
    "plt.yticks(range(-120000, 180001, 20000))\n",
    "plt.axhline(y=lowbound, color='orange', linestyle = '--')\n",
    "plt.axhline(y=upbound, color='orange', linestyle = '--')\n",
    "plt.title(f'Outliers in {col}')\n",
    "plt.show()"
   ]
  },
  {
   "cell_type": "code",
   "execution_count": 387,
   "metadata": {},
   "outputs": [
    {
     "name": "stdout",
     "output_type": "stream",
     "text": [
      "Total Outliers found: 0\n",
      "With Lower-Bound -93480.0 and Upper-Bound 155800.0\n",
      "Before (4407, 11)\n",
      "After (4407, 11)\n"
     ]
    }
   ],
   "source": [
    "# Theres no Outliers to drop\n",
    "\n",
    "print('Total Outliers found:',len(Income_outlier))\n",
    "print(f'With Lower-Bound {lowbound} and Upper-Bound {upbound}')\n",
    "\n",
    "print(f'Before {data.shape}')\n",
    "data_f0 = data_f0.drop(Income_outlier.index)\n",
    "data = data.drop(Income_outlier.index)\n",
    "print(f'After {data.shape}')"
   ]
  },
  {
   "cell_type": "markdown",
   "metadata": {},
   "source": [
    "## Feature Engineering"
   ]
  },
  {
   "cell_type": "code",
   "execution_count": 388,
   "metadata": {},
   "outputs": [
    {
     "data": {
      "text/plain": [
       "array(['Vehicle Class', 'Coverage', 'Renew Offer Type',\n",
       "       'EmploymentStatus', 'Marital Status', 'Education',\n",
       "       'Number of Policies', 'Monthly Premium Auto', 'Total Claim Amount',\n",
       "       'Income', 'Customer Lifetime Value'], dtype=object)"
      ]
     },
     "execution_count": 388,
     "metadata": {},
     "output_type": "execute_result"
    }
   ],
   "source": [
    "data.columns.values"
   ]
  },
  {
   "cell_type": "code",
   "execution_count": 389,
   "metadata": {},
   "outputs": [
    {
     "data": {
      "text/plain": [
       "Customer Lifetime Value    1.000000\n",
       "Number of Policies         0.560002\n",
       "Monthly Premium Auto       0.476259\n",
       "Total Claim Amount         0.189964\n",
       "Income                     0.066145\n",
       "Name: Customer Lifetime Value, dtype: float64"
      ]
     },
     "execution_count": 389,
     "metadata": {},
     "output_type": "execute_result"
    }
   ],
   "source": [
    "data_t0.corr(method='spearman', numeric_only=True)['Customer Lifetime Value'].sort_values(ascending=False)"
   ]
  },
  {
   "cell_type": "markdown",
   "metadata": {},
   "source": [
    "##### Find Ordinal Order for `Vehicle Class`"
   ]
  },
  {
   "cell_type": "code",
   "execution_count": 390,
   "metadata": {},
   "outputs": [
    {
     "data": {
      "text/plain": [
       "array(['Luxury Car', 'Two-Door Car', 'Four-Door Car', 'SUV', 'Luxury SUV',\n",
       "       'Sports Car'], dtype=object)"
      ]
     },
     "execution_count": 390,
     "metadata": {},
     "output_type": "execute_result"
    }
   ],
   "source": [
    "vehicle_level_assumption = data_t0.groupby(['Vehicle Class'])[['Income']].median().sort_values('Income',ascending=False).index.values\n",
    "vehicle_level_assumption"
   ]
  },
  {
   "cell_type": "code",
   "execution_count": 391,
   "metadata": {},
   "outputs": [
    {
     "data": {
      "text/plain": [
       "Customer Lifetime Value    1.000000\n",
       "Vehicle Class              0.271841\n",
       "Name: Customer Lifetime Value, dtype: float64"
      ]
     },
     "execution_count": 391,
     "metadata": {},
     "output_type": "execute_result"
    }
   ],
   "source": [
    "temp = data[['Customer Lifetime Value','Vehicle Class']]\n",
    "ord_temp = OrdinalEncoder(categories= [vehicle_level_assumption])\n",
    "temp['Vehicle Class'] = ord_temp.fit_transform(temp[['Vehicle Class']])\n",
    "\n",
    "temp.corr(method='spearman')['Customer Lifetime Value']"
   ]
  },
  {
   "cell_type": "markdown",
   "metadata": {},
   "source": [
    "##### Find Ordinal Order for `Coverage`"
   ]
  },
  {
   "cell_type": "code",
   "execution_count": 392,
   "metadata": {},
   "outputs": [
    {
     "data": {
      "text/plain": [
       "array(['Basic', 'Extended', 'Premium'], dtype=object)"
      ]
     },
     "execution_count": 392,
     "metadata": {},
     "output_type": "execute_result"
    }
   ],
   "source": [
    "coverage_level_assumption = data_t0.groupby(['Coverage'])[['Income']].median().sort_values('Income',ascending=False).index.values\n",
    "coverage_level_assumption"
   ]
  },
  {
   "cell_type": "code",
   "execution_count": 393,
   "metadata": {},
   "outputs": [
    {
     "data": {
      "text/plain": [
       "Customer Lifetime Value    1.000000\n",
       "Coverage                   0.255996\n",
       "Name: Customer Lifetime Value, dtype: float64"
      ]
     },
     "execution_count": 393,
     "metadata": {},
     "output_type": "execute_result"
    }
   ],
   "source": [
    "temp = data[['Customer Lifetime Value','Coverage']]\n",
    "ord_temp = OrdinalEncoder(categories= [coverage_level_assumption])\n",
    "temp['Coverage'] = ord_temp.fit_transform(temp[['Coverage']])\n",
    "\n",
    "temp.corr(method='spearman')['Customer Lifetime Value']"
   ]
  },
  {
   "cell_type": "markdown",
   "metadata": {},
   "source": [
    "##### Feature Selection"
   ]
  },
  {
   "cell_type": "code",
   "execution_count": 394,
   "metadata": {},
   "outputs": [],
   "source": [
    "# Feature Selection for transforming\n",
    "\n",
    "num = ['Monthly Premium Auto', 'Total Claim Amount', 'Income']\n",
    "bin = ['EmploymentStatus']\n",
    "ord = ['Coverage', 'Education', 'Vehicle Class']\n",
    "ohe = ['Renew Offer Type', 'Marital Status']"
   ]
  },
  {
   "cell_type": "markdown",
   "metadata": {},
   "source": [
    "##### Defining Features and Target from data"
   ]
  },
  {
   "cell_type": "code",
   "execution_count": 395,
   "metadata": {},
   "outputs": [],
   "source": [
    "# with no Outliers in Target and Feature\n",
    "\n",
    "x = data.drop(columns= ['Customer Lifetime Value'])\n",
    "y = data['Customer Lifetime Value']"
   ]
  },
  {
   "cell_type": "code",
   "execution_count": 396,
   "metadata": {},
   "outputs": [],
   "source": [
    "# with no Outliers in Target\n",
    "x_t0 = data_t0.drop(columns= ['Customer Lifetime Value'])\n",
    "y_t0 = data_t0['Customer Lifetime Value']"
   ]
  },
  {
   "cell_type": "code",
   "execution_count": 397,
   "metadata": {},
   "outputs": [],
   "source": [
    "# with no Outliers in Feature\n",
    "x_f0 = data_f0.drop(columns= ['Customer Lifetime Value'])\n",
    "y_f0 = data_f0['Customer Lifetime Value']"
   ]
  },
  {
   "cell_type": "markdown",
   "metadata": {},
   "source": [
    "##### Data Splitting"
   ]
  },
  {
   "cell_type": "markdown",
   "metadata": {},
   "source": [
    "split the data into `train set` for training and validating model and `test set` for testing the model with 8:2 ratio\n",
    "- Using train_set_split from sklearn.model_selection for splitting data"
   ]
  },
  {
   "cell_type": "code",
   "execution_count": 398,
   "metadata": {},
   "outputs": [],
   "source": [
    "xtrain, xtest, ytrain, ytest = train_test_split(\n",
    "    x,\n",
    "    y,\n",
    "    random_state=2024,\n",
    "    test_size=0.2\n",
    ")"
   ]
  },
  {
   "cell_type": "code",
   "execution_count": 399,
   "metadata": {},
   "outputs": [],
   "source": [
    "xtrain_t0, xtest_t0, ytrain_t0, ytest_t0 = train_test_split(\n",
    "    x_t0,\n",
    "    y_t0,\n",
    "    random_state=2024,\n",
    "    test_size=0.2\n",
    ")"
   ]
  },
  {
   "cell_type": "code",
   "execution_count": 400,
   "metadata": {},
   "outputs": [],
   "source": [
    "xtrain_f0, xtest_f0, ytrain_f0, ytest_f0 = train_test_split(\n",
    "    x_f0,\n",
    "    y_f0,\n",
    "    random_state=2024,\n",
    "    test_size=0.2\n",
    ")"
   ]
  },
  {
   "cell_type": "markdown",
   "metadata": {},
   "source": [
    "#####  Preprocessing"
   ]
  },
  {
   "cell_type": "markdown",
   "metadata": {},
   "source": [
    "Define Preprocessing for `Selected Features` before running by Machine Learning Models"
   ]
  },
  {
   "cell_type": "code",
   "execution_count": 401,
   "metadata": {},
   "outputs": [
    {
     "data": {
      "text/html": [
       "<div>\n",
       "<style scoped>\n",
       "    .dataframe tbody tr th:only-of-type {\n",
       "        vertical-align: middle;\n",
       "    }\n",
       "\n",
       "    .dataframe tbody tr th {\n",
       "        vertical-align: top;\n",
       "    }\n",
       "\n",
       "    .dataframe thead th {\n",
       "        text-align: right;\n",
       "    }\n",
       "</style>\n",
       "<table border=\"1\" class=\"dataframe\">\n",
       "  <thead>\n",
       "    <tr style=\"text-align: right;\">\n",
       "      <th></th>\n",
       "      <th>0</th>\n",
       "      <th>1</th>\n",
       "      <th>2</th>\n",
       "      <th>3</th>\n",
       "      <th>4</th>\n",
       "      <th>5</th>\n",
       "      <th>6</th>\n",
       "      <th>7</th>\n",
       "      <th>8</th>\n",
       "      <th>9</th>\n",
       "      <th>10</th>\n",
       "      <th>11</th>\n",
       "      <th>12</th>\n",
       "      <th>13</th>\n",
       "      <th>14</th>\n",
       "    </tr>\n",
       "  </thead>\n",
       "  <tbody>\n",
       "    <tr>\n",
       "      <th>0</th>\n",
       "      <td>0.168308</td>\n",
       "      <td>0.759359</td>\n",
       "      <td>-0.844736</td>\n",
       "      <td>0.0</td>\n",
       "      <td>0.0</td>\n",
       "      <td>1.0</td>\n",
       "      <td>0.0</td>\n",
       "      <td>0.0</td>\n",
       "      <td>0.0</td>\n",
       "      <td>0.0</td>\n",
       "      <td>0.0</td>\n",
       "      <td>1.0</td>\n",
       "      <td>0.0</td>\n",
       "      <td>2.0</td>\n",
       "      <td>2.0</td>\n",
       "    </tr>\n",
       "    <tr>\n",
       "      <th>1</th>\n",
       "      <td>-1.087801</td>\n",
       "      <td>-1.196032</td>\n",
       "      <td>0.227590</td>\n",
       "      <td>0.0</td>\n",
       "      <td>1.0</td>\n",
       "      <td>0.0</td>\n",
       "      <td>0.0</td>\n",
       "      <td>0.0</td>\n",
       "      <td>0.0</td>\n",
       "      <td>1.0</td>\n",
       "      <td>0.0</td>\n",
       "      <td>0.0</td>\n",
       "      <td>1.0</td>\n",
       "      <td>2.0</td>\n",
       "      <td>6.0</td>\n",
       "    </tr>\n",
       "    <tr>\n",
       "      <th>2</th>\n",
       "      <td>-1.087801</td>\n",
       "      <td>-0.585260</td>\n",
       "      <td>-0.529361</td>\n",
       "      <td>0.0</td>\n",
       "      <td>0.0</td>\n",
       "      <td>1.0</td>\n",
       "      <td>0.0</td>\n",
       "      <td>0.0</td>\n",
       "      <td>0.0</td>\n",
       "      <td>1.0</td>\n",
       "      <td>0.0</td>\n",
       "      <td>0.0</td>\n",
       "      <td>3.0</td>\n",
       "      <td>1.0</td>\n",
       "      <td>2.0</td>\n",
       "    </tr>\n",
       "    <tr>\n",
       "      <th>3</th>\n",
       "      <td>1.334694</td>\n",
       "      <td>0.696544</td>\n",
       "      <td>-0.646609</td>\n",
       "      <td>0.0</td>\n",
       "      <td>1.0</td>\n",
       "      <td>1.0</td>\n",
       "      <td>0.0</td>\n",
       "      <td>1.0</td>\n",
       "      <td>0.0</td>\n",
       "      <td>1.0</td>\n",
       "      <td>0.0</td>\n",
       "      <td>2.0</td>\n",
       "      <td>0.0</td>\n",
       "      <td>2.0</td>\n",
       "      <td>1.0</td>\n",
       "    </tr>\n",
       "    <tr>\n",
       "      <th>4</th>\n",
       "      <td>-1.087801</td>\n",
       "      <td>-0.163462</td>\n",
       "      <td>-0.610240</td>\n",
       "      <td>1.0</td>\n",
       "      <td>0.0</td>\n",
       "      <td>0.0</td>\n",
       "      <td>0.0</td>\n",
       "      <td>1.0</td>\n",
       "      <td>0.0</td>\n",
       "      <td>1.0</td>\n",
       "      <td>0.0</td>\n",
       "      <td>0.0</td>\n",
       "      <td>0.0</td>\n",
       "      <td>1.0</td>\n",
       "      <td>1.0</td>\n",
       "    </tr>\n",
       "  </tbody>\n",
       "</table>\n",
       "</div>"
      ],
      "text/plain": [
       "         0         1         2    3    4    5    6    7    8    9    10   11  \\\n",
       "0  0.168308  0.759359 -0.844736  0.0  0.0  1.0  0.0  0.0  0.0  0.0  0.0  1.0   \n",
       "1 -1.087801 -1.196032  0.227590  0.0  1.0  0.0  0.0  0.0  0.0  1.0  0.0  0.0   \n",
       "2 -1.087801 -0.585260 -0.529361  0.0  0.0  1.0  0.0  0.0  0.0  1.0  0.0  0.0   \n",
       "3  1.334694  0.696544 -0.646609  0.0  1.0  1.0  0.0  1.0  0.0  1.0  0.0  2.0   \n",
       "4 -1.087801 -0.163462 -0.610240  1.0  0.0  0.0  0.0  1.0  0.0  1.0  0.0  0.0   \n",
       "\n",
       "    12   13   14  \n",
       "0  0.0  2.0  2.0  \n",
       "1  1.0  2.0  6.0  \n",
       "2  3.0  1.0  2.0  \n",
       "3  0.0  2.0  1.0  \n",
       "4  0.0  1.0  1.0  "
      ]
     },
     "execution_count": 401,
     "metadata": {},
     "output_type": "execute_result"
    }
   ],
   "source": [
    "coverage_level = [coverage_level_assumption]\n",
    "education_level = [['High School or Below', 'College', 'Bachelor', 'Master', 'Doctor']]\n",
    "vehicle_class_level = [vehicle_level_assumption]\n",
    "\n",
    "preproc = ColumnTransformer([\n",
    "        ('num', StandardScaler(), num),\n",
    "        ('bin', BinaryEncoder(), bin),\n",
    "        ('ohe', OneHotEncoder(drop='first'), ohe),\n",
    "        ('ord_coverage', OrdinalEncoder(categories= coverage_level), [ord[0]]),\n",
    "        ('ord_education', OrdinalEncoder(categories= education_level), [ord[1]]),\n",
    "        ('ord_vehicle', OrdinalEncoder(categories= vehicle_class_level), [ord[2]])\n",
    "], remainder='passthrough')\n",
    "\n",
    "processed = preproc.fit_transform(x)\n",
    "pd.DataFrame(processed).head()"
   ]
  },
  {
   "cell_type": "markdown",
   "metadata": {},
   "source": [
    "## Model Benchmarking"
   ]
  },
  {
   "cell_type": "markdown",
   "metadata": {},
   "source": [
    "##### Define Models"
   ]
  },
  {
   "cell_type": "code",
   "execution_count": 402,
   "metadata": {},
   "outputs": [],
   "source": [
    "# Define the regression models from sklearn\n",
    "\n",
    "linreg = LinearRegression()\n",
    "dt = DecisionTreeRegressor()\n",
    "knn = KNeighborsRegressor()\n",
    "svm = SVR()\n",
    "rf = RandomForestRegressor()\n",
    "gboost = GradientBoostingRegressor()\n",
    "adaboost = AdaBoostRegressor()\n",
    "lasso = Lasso()\n",
    "ridge = Ridge()\n",
    "elasticnet = ElasticNet()"
   ]
  },
  {
   "cell_type": "markdown",
   "metadata": {},
   "source": [
    "##### Cross Validation"
   ]
  },
  {
   "cell_type": "markdown",
   "metadata": {},
   "source": [
    "Perform Cross Validation between models to find best 2 models by MAPE Scoring"
   ]
  },
  {
   "cell_type": "code",
   "execution_count": 403,
   "metadata": {},
   "outputs": [
    {
     "data": {
      "text/html": [
       "<div>\n",
       "<style scoped>\n",
       "    .dataframe tbody tr th:only-of-type {\n",
       "        vertical-align: middle;\n",
       "    }\n",
       "\n",
       "    .dataframe tbody tr th {\n",
       "        vertical-align: top;\n",
       "    }\n",
       "\n",
       "    .dataframe thead th {\n",
       "        text-align: right;\n",
       "    }\n",
       "</style>\n",
       "<table border=\"1\" class=\"dataframe\">\n",
       "  <thead>\n",
       "    <tr style=\"text-align: right;\">\n",
       "      <th></th>\n",
       "      <th>Model</th>\n",
       "      <th>Mean</th>\n",
       "      <th>Std</th>\n",
       "      <th>Mean_noOutlierTarget</th>\n",
       "      <th>Std_noOutlierTarget</th>\n",
       "      <th>Mean_noOutlierFeature</th>\n",
       "      <th>Std_noOutlierFeature</th>\n",
       "    </tr>\n",
       "  </thead>\n",
       "  <tbody>\n",
       "    <tr>\n",
       "      <th>4</th>\n",
       "      <td>RForest</td>\n",
       "      <td>-4.619962</td>\n",
       "      <td>0.003597</td>\n",
       "      <td>-4.365981</td>\n",
       "      <td>0.000418</td>\n",
       "      <td>-12.847580</td>\n",
       "      <td>0.007101</td>\n",
       "    </tr>\n",
       "    <tr>\n",
       "      <th>5</th>\n",
       "      <td>GradBoost</td>\n",
       "      <td>-5.126199</td>\n",
       "      <td>0.001899</td>\n",
       "      <td>-4.902222</td>\n",
       "      <td>0.000903</td>\n",
       "      <td>-15.257839</td>\n",
       "      <td>0.009038</td>\n",
       "    </tr>\n",
       "    <tr>\n",
       "      <th>1</th>\n",
       "      <td>DT</td>\n",
       "      <td>-5.670040</td>\n",
       "      <td>0.006036</td>\n",
       "      <td>-5.587612</td>\n",
       "      <td>0.003435</td>\n",
       "      <td>-15.071063</td>\n",
       "      <td>0.010821</td>\n",
       "    </tr>\n",
       "    <tr>\n",
       "      <th>6</th>\n",
       "      <td>AdaBoost</td>\n",
       "      <td>-11.437911</td>\n",
       "      <td>0.003338</td>\n",
       "      <td>-15.817305</td>\n",
       "      <td>0.003547</td>\n",
       "      <td>-69.700702</td>\n",
       "      <td>0.103728</td>\n",
       "    </tr>\n",
       "    <tr>\n",
       "      <th>2</th>\n",
       "      <td>KNN</td>\n",
       "      <td>-16.244738</td>\n",
       "      <td>0.004756</td>\n",
       "      <td>-15.136390</td>\n",
       "      <td>0.006023</td>\n",
       "      <td>-28.754719</td>\n",
       "      <td>0.017391</td>\n",
       "    </tr>\n",
       "    <tr>\n",
       "      <th>0</th>\n",
       "      <td>LinReg</td>\n",
       "      <td>-38.501185</td>\n",
       "      <td>0.007980</td>\n",
       "      <td>-37.391708</td>\n",
       "      <td>0.006160</td>\n",
       "      <td>-59.939772</td>\n",
       "      <td>0.033241</td>\n",
       "    </tr>\n",
       "    <tr>\n",
       "      <th>8</th>\n",
       "      <td>Ridge</td>\n",
       "      <td>-38.502817</td>\n",
       "      <td>0.007985</td>\n",
       "      <td>-37.393909</td>\n",
       "      <td>0.006167</td>\n",
       "      <td>-59.937926</td>\n",
       "      <td>0.033252</td>\n",
       "    </tr>\n",
       "    <tr>\n",
       "      <th>7</th>\n",
       "      <td>Lasso</td>\n",
       "      <td>-38.504909</td>\n",
       "      <td>0.008051</td>\n",
       "      <td>-37.398654</td>\n",
       "      <td>0.006195</td>\n",
       "      <td>-59.926392</td>\n",
       "      <td>0.033256</td>\n",
       "    </tr>\n",
       "    <tr>\n",
       "      <th>9</th>\n",
       "      <td>ElasticNet</td>\n",
       "      <td>-41.003502</td>\n",
       "      <td>0.010517</td>\n",
       "      <td>-40.167481</td>\n",
       "      <td>0.009123</td>\n",
       "      <td>-63.609763</td>\n",
       "      <td>0.030185</td>\n",
       "    </tr>\n",
       "    <tr>\n",
       "      <th>3</th>\n",
       "      <td>SVM</td>\n",
       "      <td>-42.687359</td>\n",
       "      <td>0.012948</td>\n",
       "      <td>-43.133060</td>\n",
       "      <td>0.015815</td>\n",
       "      <td>-48.772407</td>\n",
       "      <td>0.012718</td>\n",
       "    </tr>\n",
       "  </tbody>\n",
       "</table>\n",
       "</div>"
      ],
      "text/plain": [
       "        Model       Mean       Std  Mean_noOutlierTarget  Std_noOutlierTarget  \\\n",
       "4     RForest  -4.619962  0.003597             -4.365981             0.000418   \n",
       "5   GradBoost  -5.126199  0.001899             -4.902222             0.000903   \n",
       "1          DT  -5.670040  0.006036             -5.587612             0.003435   \n",
       "6    AdaBoost -11.437911  0.003338            -15.817305             0.003547   \n",
       "2         KNN -16.244738  0.004756            -15.136390             0.006023   \n",
       "0      LinReg -38.501185  0.007980            -37.391708             0.006160   \n",
       "8       Ridge -38.502817  0.007985            -37.393909             0.006167   \n",
       "7       Lasso -38.504909  0.008051            -37.398654             0.006195   \n",
       "9  ElasticNet -41.003502  0.010517            -40.167481             0.009123   \n",
       "3         SVM -42.687359  0.012948            -43.133060             0.015815   \n",
       "\n",
       "   Mean_noOutlierFeature  Std_noOutlierFeature  \n",
       "4             -12.847580              0.007101  \n",
       "5             -15.257839              0.009038  \n",
       "1             -15.071063              0.010821  \n",
       "6             -69.700702              0.103728  \n",
       "2             -28.754719              0.017391  \n",
       "0             -59.939772              0.033241  \n",
       "8             -59.937926              0.033252  \n",
       "7             -59.926392              0.033256  \n",
       "9             -63.609763              0.030185  \n",
       "3             -48.772407              0.012718  "
      ]
     },
     "execution_count": 403,
     "metadata": {},
     "output_type": "execute_result"
    }
   ],
   "source": [
    "models = [linreg, dt, knn, svm, rf, gboost, adaboost, lasso, ridge, elasticnet]\n",
    "score, score_t0, score_f0 = [], [], []\n",
    "mean, mean_t0, mean_f0 = [], [], []\n",
    "std, std_t0, std_f0 = [], [], []\n",
    "\n",
    "for i in models:\n",
    "  model = Pipeline([\n",
    "      ('Pre', preproc),\n",
    "      ('Model', i)\n",
    "  ])\n",
    "\n",
    "  model_cv = cross_val_score(model, xtrain, ytrain, cv=5, scoring= 'neg_mean_absolute_percentage_error')\n",
    "  score.append(model_cv)\n",
    "  mean.append(model_cv.mean()*100)\n",
    "  std.append(model_cv.std())\n",
    "\n",
    "  model_cv_t0 = cross_val_score(model, xtrain_t0, ytrain_t0, cv=5, scoring= 'neg_mean_absolute_percentage_error')\n",
    "  score_t0.append(model_cv_t0)\n",
    "  mean_t0.append(model_cv_t0.mean()*100)\n",
    "  std_t0.append(model_cv_t0.std())\n",
    "\n",
    "  model_cv_f0 = cross_val_score(model, xtrain_f0, ytrain_f0, cv=5, scoring= 'neg_mean_absolute_percentage_error')\n",
    "  score_f0.append(model_cv_f0)\n",
    "  mean_f0.append(model_cv_f0.mean()*100)\n",
    "  std_f0.append(model_cv_f0.std())\n",
    "\n",
    "df_model = pd.DataFrame({\n",
    "   'Model' : ['LinReg', 'DT', 'KNN', 'SVM', 'RForest', 'GradBoost', 'AdaBoost', 'Lasso', 'Ridge', 'ElasticNet'],\n",
    "   'Mean' : mean,\n",
    "   'Std' : std,\n",
    "   'Mean_noOutlierTarget' : mean_t0,\n",
    "   'Std_noOutlierTarget' : std_t0,\n",
    "   'Mean_noOutlierFeature' : mean_f0,\n",
    "   'Std_noOutlierFeature' : std_f0\n",
    "}).sort_values('Mean', ascending = False)\n",
    "\n",
    "df_model"
   ]
  },
  {
   "cell_type": "code",
   "execution_count": 404,
   "metadata": {},
   "outputs": [
    {
     "data": {
      "text/plain": [
       "((3525, 10), (3525,))"
      ]
     },
     "execution_count": 404,
     "metadata": {},
     "output_type": "execute_result"
    }
   ],
   "source": [
    "xtrain = xtrain_t0\n",
    "ytrain = ytrain_t0\n",
    "xtest = xtest_t0\n",
    "ytest = ytest_t0\n",
    "\n",
    "xtrain.shape, ytrain.shape"
   ]
  },
  {
   "cell_type": "code",
   "execution_count": 405,
   "metadata": {},
   "outputs": [
    {
     "name": "stdout",
     "output_type": "stream",
     "text": [
      "Test Mean Absolute Percentage Error: 4.66%\n"
     ]
    }
   ],
   "source": [
    "model = Pipeline([\n",
    "    ('Pre', preproc),\n",
    "    ('Model', rf)\n",
    "])\n",
    "model.fit(xtrain, ytrain)\n",
    "y_dt_pred = model.predict(xtest)\n",
    "rf_mape = mean_absolute_percentage_error(ytest, y_dt_pred)\n",
    "print(f'Test Mean Absolute Percentage Error: {round(rf_mape*100, 3)}%')"
   ]
  },
  {
   "cell_type": "markdown",
   "metadata": {},
   "source": [
    "## First Model - Random Forest Regressor"
   ]
  },
  {
   "cell_type": "markdown",
   "metadata": {},
   "source": [
    "##### Hyperparameter tuning - Random Forest Regressor"
   ]
  },
  {
   "cell_type": "code",
   "execution_count": 410,
   "metadata": {},
   "outputs": [
    {
     "name": "stdout",
     "output_type": "stream",
     "text": [
      "Fitting 5 folds for each of 200 candidates, totalling 1000 fits\n",
      "Best parameters for RandomForestRegressor:  {'Model__n_estimators': 200, 'Model__min_samples_split': 6, 'Model__min_samples_leaf': 5, 'Model__max_features': None, 'Model__max_depth': None, 'Model__bootstrap': True}\n"
     ]
    }
   ],
   "source": [
    "# Define parameter grid for Random Forest Regressor\n",
    "rf_params = {\n",
    "    'Model__n_estimators': [50,100,200],\n",
    "    'Model__max_depth': [3,5,10,None],\n",
    "    'Model__min_samples_split': [2,4,6],\n",
    "    'Model__min_samples_leaf': [1,3,5,10,20],\n",
    "    'Model__max_features': [None, 0.5, 1, 'sqrt', 'log2'],\n",
    "    'Model__bootstrap': [True, False]\n",
    "}\n",
    "\n",
    "# Create full pipeline including preprocessing and Random Forest\n",
    "model = Pipeline([\n",
    "    ('Pre', preproc),\n",
    "    ('Model', rf)\n",
    "])\n",
    "\n",
    "# Initialize grid search with cross-validation\n",
    "rf_random_search = RandomizedSearchCV(\n",
    "    estimator= model,\n",
    "    param_distributions= rf_params,\n",
    "    n_iter= 200,\n",
    "    cv=5,\n",
    "    scoring= 'neg_mean_absolute_percentage_error',\n",
    "    verbose=True\n",
    ")\n",
    "\n",
    "# Perform grid search on the training data\n",
    "rf_random_search.fit(xtrain, ytrain)\n",
    "\n",
    "# Get the best hyperparameters\n",
    "print('Best parameters for RandomForestRegressor: ', rf_random_search.best_params_)"
   ]
  },
  {
   "cell_type": "code",
   "execution_count": 425,
   "metadata": {},
   "outputs": [
    {
     "data": {
      "text/plain": [
       "{'Model__n_estimators': 200,\n",
       " 'Model__min_samples_split': 6,\n",
       " 'Model__min_samples_leaf': 5,\n",
       " 'Model__max_features': None,\n",
       " 'Model__max_depth': None,\n",
       " 'Model__bootstrap': True}"
      ]
     },
     "execution_count": 425,
     "metadata": {},
     "output_type": "execute_result"
    }
   ],
   "source": [
    "dict(rf_random_search.best_params_)"
   ]
  },
  {
   "cell_type": "markdown",
   "metadata": {},
   "source": [
    "##### Testing `Random Forest Regressor` with `Best Parameter`"
   ]
  },
  {
   "cell_type": "code",
   "execution_count": 411,
   "metadata": {},
   "outputs": [
    {
     "name": "stdout",
     "output_type": "stream",
     "text": [
      "Mean Absolute Percentage Error - Test: 4.394%\n"
     ]
    }
   ],
   "source": [
    "# Train final model with best hyperparameters\n",
    "model = model.set_params(**rf_random_search.best_params_)\n",
    "model.fit(xtrain, ytrain)\n",
    "\n",
    "# Evaluate final model on test set\n",
    "y_dt_pred = model.predict(xtest)\n",
    "rf_mape = mean_absolute_percentage_error(ytest, y_dt_pred)\n",
    "print(f'Mean Absolute Percentage Error - Test: {round(rf_mape*100,3)}%')"
   ]
  },
  {
   "cell_type": "markdown",
   "metadata": {},
   "source": [
    "## Second Model - Gradient Boosting Regressor"
   ]
  },
  {
   "cell_type": "markdown",
   "metadata": {},
   "source": [
    "##### Hyperparameter tuning - Gradient Boosting Regressor"
   ]
  },
  {
   "cell_type": "code",
   "execution_count": 419,
   "metadata": {},
   "outputs": [
    {
     "name": "stdout",
     "output_type": "stream",
     "text": [
      "Fitting 5 folds for each of 200 candidates, totalling 1000 fits\n",
      "Best parameters for GradientBoostingRegressor:  {'Model__n_estimators': 90, 'Model__min_samples_split': 6, 'Model__min_samples_leaf': 3, 'Model__max_features': 'sqrt', 'Model__max_depth': 7, 'Model__loss': 'huber', 'Model__learning_rate': 0.05}\n"
     ]
    }
   ],
   "source": [
    "# Define parameter grid for GradientBoostingRegressor\n",
    "gb_params = {\n",
    "    'Model__loss': ['squared_error', 'absolute_error', 'huber', 'quantile'],\n",
    "    'Model__n_estimators': range(10, 100, 10),\n",
    "    'Model__learning_rate': [0.05, 0.01, 0.005, 0.001, 0.0005, 0.0001],\n",
    "    'Model__max_depth': [3, 4, 5, 6, 7],\n",
    "    'Model__min_samples_split': range(2, 20, 2),\n",
    "    'Model__min_samples_leaf': range(1, 10, 1),\n",
    "    'Model__max_features': ['auto', 'sqrt', 'log2']\n",
    "}\n",
    "\n",
    "# Create full pipeline including preprocessing and GradientBoostingRegressor\n",
    "model = Pipeline([\n",
    "    ('Prep', preproc),\n",
    "    ('Model', gboost)\n",
    "])\n",
    "\n",
    "# Initialize grid search with cross-validation\n",
    "gb_random_search = RandomizedSearchCV(\n",
    "    estimator= model,\n",
    "    param_distributions= gb_params,\n",
    "    n_iter= 200,\n",
    "    cv=5,\n",
    "    scoring= 'neg_mean_absolute_percentage_error',\n",
    "    verbose=True\n",
    ")\n",
    "\n",
    "# Perform grid search on the training data\n",
    "gb_random_search.fit(xtrain, ytrain)\n",
    "\n",
    "# Get the best hyperparameters\n",
    "print('Best parameters for GradientBoostingRegressor: ', gb_random_search.best_params_)"
   ]
  },
  {
   "cell_type": "code",
   "execution_count": 424,
   "metadata": {},
   "outputs": [
    {
     "data": {
      "text/plain": [
       "{'Model__n_estimators': 90,\n",
       " 'Model__min_samples_split': 6,\n",
       " 'Model__min_samples_leaf': 3,\n",
       " 'Model__max_features': 'sqrt',\n",
       " 'Model__max_depth': 7,\n",
       " 'Model__loss': 'huber',\n",
       " 'Model__learning_rate': 0.05}"
      ]
     },
     "execution_count": 424,
     "metadata": {},
     "output_type": "execute_result"
    }
   ],
   "source": [
    "dict(gb_random_search.best_params_)"
   ]
  },
  {
   "cell_type": "markdown",
   "metadata": {},
   "source": [
    "##### Testing `Gradient Boosting Regressor` with `Best Parameter`"
   ]
  },
  {
   "cell_type": "code",
   "execution_count": 420,
   "metadata": {},
   "outputs": [
    {
     "name": "stdout",
     "output_type": "stream",
     "text": [
      "Mean Absolute Percentage Error - Test: 5.22%\n"
     ]
    }
   ],
   "source": [
    "# Train final model with best hyperparameters\n",
    "model = model.set_params(**gb_random_search.best_params_)\n",
    "model.fit(xtrain, ytrain)\n",
    "\n",
    "# Evaluate final model on test set\n",
    "y_dt_pred = model.predict(xtest)\n",
    "gb_mape = mean_absolute_percentage_error(ytest, y_dt_pred)\n",
    "print(f'Mean Absolute Percentage Error - Test: {round(gb_mape*100,3)}%')"
   ]
  },
  {
   "cell_type": "markdown",
   "metadata": {},
   "source": [
    "## Third Model - Decision Tree Regressor"
   ]
  },
  {
   "cell_type": "markdown",
   "metadata": {},
   "source": [
    "##### Hyperparameter tuning - Decision Tree Regressor"
   ]
  },
  {
   "cell_type": "code",
   "execution_count": 426,
   "metadata": {},
   "outputs": [
    {
     "name": "stdout",
     "output_type": "stream",
     "text": [
      "Fitting 5 folds for each of 200 candidates, totalling 1000 fits\n",
      "Best parameters for GradientBoostingRegressor:  {'Model__splitter': 'best', 'Model__min_samples_split': 6, 'Model__min_samples_leaf': 7, 'Model__max_features': 'sqrt', 'Model__max_depth': 7, 'Model__criterion': 'squared_error'}\n"
     ]
    }
   ],
   "source": [
    "# Define parameter grid for Decision Tree Regressor\n",
    "dt_params = {\n",
    "    'Model__criterion': ['squared_error', 'friedman_mse', 'absolute_error', 'poisson'],\n",
    "    'Model__splitter': ['best', 'random'],\n",
    "    'Model__max_depth': [3, 4, 5, 6, 7],\n",
    "    'Model__min_samples_split': range(2, 20, 2),\n",
    "    'Model__min_samples_leaf': range(1, 10, 1),\n",
    "    'Model__max_features': ['auto', 'sqrt', 'log2']\n",
    "}\n",
    "\n",
    "# Create full pipeline including preprocessing and Decision Tree Regressor\n",
    "model = Pipeline([\n",
    "    ('Prep', preproc),\n",
    "    ('Model', dt)\n",
    "])\n",
    "\n",
    "# Initialize grid search with cross-validation\n",
    "dt_random_search = RandomizedSearchCV(\n",
    "    estimator= model,\n",
    "    param_distributions= dt_params,\n",
    "    n_iter= 200,\n",
    "    cv=5,\n",
    "    scoring= 'neg_mean_absolute_percentage_error',\n",
    "    verbose=True\n",
    ")\n",
    "\n",
    "# Perform grid search on the training data\n",
    "dt_random_search.fit(xtrain, ytrain)\n",
    "\n",
    "# Get the best hyperparameters\n",
    "print('Best parameters for GradientBoostingRegressor: ', dt_random_search.best_params_)"
   ]
  },
  {
   "cell_type": "code",
   "execution_count": 427,
   "metadata": {},
   "outputs": [
    {
     "data": {
      "text/plain": [
       "{'Model__splitter': 'best',\n",
       " 'Model__min_samples_split': 6,\n",
       " 'Model__min_samples_leaf': 7,\n",
       " 'Model__max_features': 'sqrt',\n",
       " 'Model__max_depth': 7,\n",
       " 'Model__criterion': 'squared_error'}"
      ]
     },
     "execution_count": 427,
     "metadata": {},
     "output_type": "execute_result"
    }
   ],
   "source": [
    "dict(dt_random_search.best_params_)"
   ]
  },
  {
   "cell_type": "markdown",
   "metadata": {},
   "source": [
    "##### Testing `Decision Tree Regressor` with `Best Parameter`"
   ]
  },
  {
   "cell_type": "code",
   "execution_count": 428,
   "metadata": {},
   "outputs": [
    {
     "name": "stdout",
     "output_type": "stream",
     "text": [
      "Mean Absolute Percentage Error - Test: 19.393%\n"
     ]
    }
   ],
   "source": [
    "# Train final model with best hyperparameters\n",
    "model = model.set_params(**dt_random_search.best_params_)\n",
    "model.fit(xtrain, ytrain)\n",
    "\n",
    "# Evaluate final model on test set\n",
    "y_dt_pred = model.predict(xtest)\n",
    "dt_mape = mean_absolute_percentage_error(ytest, y_dt_pred)\n",
    "print(f'Mean Absolute Percentage Error - Test: {round(dt_mape*100,3)}%')"
   ]
  },
  {
   "cell_type": "markdown",
   "metadata": {},
   "source": [
    "## Conclution"
   ]
  },
  {
   "cell_type": "markdown",
   "metadata": {},
   "source": [
    "- Best Model Is Random Forest Regression with MAPE Score: 4,39%\n",
    "- Model Machine Learning is more than good enough to predict CLV Data from New Customer\n",
    "\n",
    "Recommendation:\n",
    "- This Machine Learning Model could be more accurate by another setting of Feature Selection and more deep iteration of Hyperparameter Tuning"
   ]
  }
 ],
 "metadata": {
  "kernelspec": {
   "display_name": "Python 3",
   "language": "python",
   "name": "python3"
  },
  "language_info": {
   "codemirror_mode": {
    "name": "ipython",
    "version": 3
   },
   "file_extension": ".py",
   "mimetype": "text/x-python",
   "name": "python",
   "nbconvert_exporter": "python",
   "pygments_lexer": "ipython3",
   "version": "3.12.1"
  }
 },
 "nbformat": 4,
 "nbformat_minor": 2
}
